{
  "nbformat": 4,
  "nbformat_minor": 0,
  "metadata": {
    "orig_nbformat": 4,
    "language_info": {
      "name": "python",
      "version": "3.7.10",
      "mimetype": "text/x-python",
      "codemirror_mode": {
        "name": "ipython",
        "version": 3
      },
      "pygments_lexer": "ipython3",
      "nbconvert_exporter": "python",
      "file_extension": ".py"
    },
    "kernelspec": {
      "name": "python3",
      "display_name": "Python 3.7.10 64-bit ('mlenv': conda)"
    },
    "interpreter": {
      "hash": "2f87159d2ba226b00e2234538aef9d434a5718a04c8a066af71d694912e12fbd"
    },
    "colab": {
      "name": "weekly_casual_rides_pmodel.ipynb",
      "provenance": [],
      "collapsed_sections": [],
      "include_colab_link": true
    }
  },
  "cells": [
    {
      "cell_type": "markdown",
      "metadata": {
        "id": "view-in-github",
        "colab_type": "text"
      },
      "source": [
        "<a href=\"https://colab.research.google.com/github/tshanedc/bikesharing_finalproject/blob/main/weekly_casual_rides_pmodel.ipynb\" target=\"_parent\"><img src=\"https://colab.research.google.com/assets/colab-badge.svg\" alt=\"Open In Colab\"/></a>"
      ]
    },
    {
      "cell_type": "code",
      "metadata": {
        "id": "75QlIgeim2fw"
      },
      "source": [
        "# Import Dependencies\n",
        "import pandas as pd\n",
        "import sklearn\n",
        "from sklearn.preprocessing import LabelEncoder\n",
        "from sklearn.preprocessing import OneHotEncoder\n",
        "from sklearn.model_selection import train_test_split\n",
        "from fbprophet import Prophet\n",
        "import warnings;\n",
        "warnings.simplefilter('ignore') \n",
        "from matplotlib import pyplot as plt\n",
        "plt.style.use('fivethirtyeight')"
      ],
      "execution_count": 1,
      "outputs": []
    },
    {
      "cell_type": "code",
      "metadata": {
        "colab": {
          "base_uri": "https://localhost:8080/"
        },
        "id": "QJML5YwDnAWv",
        "outputId": "eadf2949-1d0b-4653-e7aa-525ddf40fbab"
      },
      "source": [
        "from google.colab import drive\n",
        "drive.mount('/content/drive')"
      ],
      "execution_count": 2,
      "outputs": [
        {
          "output_type": "stream",
          "text": [
            "Mounted at /content/drive\n"
          ],
          "name": "stdout"
        }
      ]
    },
    {
      "cell_type": "code",
      "metadata": {
        "colab": {
          "base_uri": "https://localhost:8080/",
          "height": 359
        },
        "id": "5xGdlvORm2fy",
        "outputId": "261ef235-a147-4016-eefb-63324696a72b"
      },
      "source": [
        "# Load data\n",
        "data = '/content/drive/MyDrive/Colab Notebooks/member_rides.csv'\n",
        "#df_train= pd.read_csv(data)\n",
        "#file_path = Path('./Resources/Data/member_rides.csv')\n",
        "member_rides_df = pd.read_csv(data)\n",
        "member_rides_df.head(10)"
      ],
      "execution_count": 3,
      "outputs": [
        {
          "output_type": "execute_result",
          "data": {
            "text/html": [
              "<div>\n",
              "<style scoped>\n",
              "    .dataframe tbody tr th:only-of-type {\n",
              "        vertical-align: middle;\n",
              "    }\n",
              "\n",
              "    .dataframe tbody tr th {\n",
              "        vertical-align: top;\n",
              "    }\n",
              "\n",
              "    .dataframe thead th {\n",
              "        text-align: right;\n",
              "    }\n",
              "</style>\n",
              "<table border=\"1\" class=\"dataframe\">\n",
              "  <thead>\n",
              "    <tr style=\"text-align: right;\">\n",
              "      <th></th>\n",
              "      <th>ds</th>\n",
              "      <th>y</th>\n",
              "    </tr>\n",
              "  </thead>\n",
              "  <tbody>\n",
              "    <tr>\n",
              "      <th>0</th>\n",
              "      <td>2010-09-20 11:27:04</td>\n",
              "      <td>1</td>\n",
              "    </tr>\n",
              "    <tr>\n",
              "      <th>1</th>\n",
              "      <td>2010-09-20 11:41:22</td>\n",
              "      <td>1</td>\n",
              "    </tr>\n",
              "    <tr>\n",
              "      <th>2</th>\n",
              "      <td>2010-09-20 12:05:37</td>\n",
              "      <td>1</td>\n",
              "    </tr>\n",
              "    <tr>\n",
              "      <th>3</th>\n",
              "      <td>2010-09-20 12:06:05</td>\n",
              "      <td>1</td>\n",
              "    </tr>\n",
              "    <tr>\n",
              "      <th>4</th>\n",
              "      <td>2010-09-20 12:10:43</td>\n",
              "      <td>1</td>\n",
              "    </tr>\n",
              "    <tr>\n",
              "      <th>5</th>\n",
              "      <td>2010-09-20 12:14:27</td>\n",
              "      <td>1</td>\n",
              "    </tr>\n",
              "    <tr>\n",
              "      <th>6</th>\n",
              "      <td>2010-09-20 12:15:26</td>\n",
              "      <td>1</td>\n",
              "    </tr>\n",
              "    <tr>\n",
              "      <th>7</th>\n",
              "      <td>2010-09-20 12:16:36</td>\n",
              "      <td>1</td>\n",
              "    </tr>\n",
              "    <tr>\n",
              "      <th>8</th>\n",
              "      <td>2010-09-20 12:18:38</td>\n",
              "      <td>1</td>\n",
              "    </tr>\n",
              "    <tr>\n",
              "      <th>9</th>\n",
              "      <td>2010-09-20 12:19:46</td>\n",
              "      <td>1</td>\n",
              "    </tr>\n",
              "  </tbody>\n",
              "</table>\n",
              "</div>"
            ],
            "text/plain": [
              "                    ds  y\n",
              "0  2010-09-20 11:27:04  1\n",
              "1  2010-09-20 11:41:22  1\n",
              "2  2010-09-20 12:05:37  1\n",
              "3  2010-09-20 12:06:05  1\n",
              "4  2010-09-20 12:10:43  1\n",
              "5  2010-09-20 12:14:27  1\n",
              "6  2010-09-20 12:15:26  1\n",
              "7  2010-09-20 12:16:36  1\n",
              "8  2010-09-20 12:18:38  1\n",
              "9  2010-09-20 12:19:46  1"
            ]
          },
          "metadata": {
            "tags": []
          },
          "execution_count": 3
        }
      ]
    },
    {
      "cell_type": "code",
      "metadata": {
        "colab": {
          "base_uri": "https://localhost:8080/"
        },
        "id": "3WnJhv7Em2fz",
        "outputId": "23eab2fd-f0b3-43f5-b121-5723e61e0f26"
      },
      "source": [
        "member_rides_df.dtypes"
      ],
      "execution_count": 4,
      "outputs": [
        {
          "output_type": "execute_result",
          "data": {
            "text/plain": [
              "ds    object\n",
              "y      int64\n",
              "dtype: object"
            ]
          },
          "metadata": {
            "tags": []
          },
          "execution_count": 4
        }
      ]
    },
    {
      "cell_type": "code",
      "metadata": {
        "colab": {
          "base_uri": "https://localhost:8080/"
        },
        "id": "DImO4Ry_EBDo",
        "outputId": "67571ff0-44c9-45ef-fadd-f8cdacad6a0d"
      },
      "source": [
        "member_rides_df['y'].value_counts()"
      ],
      "execution_count": 5,
      "outputs": [
        {
          "output_type": "execute_result",
          "data": {
            "text/plain": [
              "1    22126756\n",
              "0     6269130\n",
              "Name: y, dtype: int64"
            ]
          },
          "metadata": {
            "tags": []
          },
          "execution_count": 5
        }
      ]
    },
    {
      "cell_type": "code",
      "metadata": {
        "id": "7o4vL_KKwCRJ"
      },
      "source": [
        "# Remove 'Member-1' from 'y' column\n",
        "casual_rides_df = member_rides_df[member_rides_df.y != 1]"
      ],
      "execution_count": 6,
      "outputs": []
    },
    {
      "cell_type": "code",
      "metadata": {
        "colab": {
          "base_uri": "https://localhost:8080/"
        },
        "id": "GjeVtAHGw6sv",
        "outputId": "497a109f-b63a-45ef-892b-c427dfbffb82"
      },
      "source": [
        "casual_rides_df['y'].value_counts()"
      ],
      "execution_count": 7,
      "outputs": [
        {
          "output_type": "execute_result",
          "data": {
            "text/plain": [
              "0    6269130\n",
              "Name: y, dtype: int64"
            ]
          },
          "metadata": {
            "tags": []
          },
          "execution_count": 7
        }
      ]
    },
    {
      "cell_type": "code",
      "metadata": {
        "id": "_mEQqo-8m2f0"
      },
      "source": [
        "# Convert 'ds' object to datetime object \n",
        "casual_rides_df['ds'] = pd.to_datetime(casual_rides_df['ds'])"
      ],
      "execution_count": 8,
      "outputs": []
    },
    {
      "cell_type": "code",
      "metadata": {
        "id": "-Zq5hhbQm2f0",
        "colab": {
          "base_uri": "https://localhost:8080/"
        },
        "outputId": "168f5775-4025-40bd-8788-8f84d8ea0e6d"
      },
      "source": [
        "casual_rides_df.dtypes"
      ],
      "execution_count": 9,
      "outputs": [
        {
          "output_type": "execute_result",
          "data": {
            "text/plain": [
              "ds    datetime64[ns]\n",
              "y              int64\n",
              "dtype: object"
            ]
          },
          "metadata": {
            "tags": []
          },
          "execution_count": 9
        }
      ]
    },
    {
      "cell_type": "code",
      "metadata": {
        "colab": {
          "base_uri": "https://localhost:8080/",
          "height": 204
        },
        "id": "bcyms1LtsbiS",
        "outputId": "c0f3fea2-e117-4db4-836a-32affcb50a8d"
      },
      "source": [
        "casual_rides_df.head()"
      ],
      "execution_count": 10,
      "outputs": [
        {
          "output_type": "execute_result",
          "data": {
            "text/html": [
              "<div>\n",
              "<style scoped>\n",
              "    .dataframe tbody tr th:only-of-type {\n",
              "        vertical-align: middle;\n",
              "    }\n",
              "\n",
              "    .dataframe tbody tr th {\n",
              "        vertical-align: top;\n",
              "    }\n",
              "\n",
              "    .dataframe thead th {\n",
              "        text-align: right;\n",
              "    }\n",
              "</style>\n",
              "<table border=\"1\" class=\"dataframe\">\n",
              "  <thead>\n",
              "    <tr style=\"text-align: right;\">\n",
              "      <th></th>\n",
              "      <th>ds</th>\n",
              "      <th>y</th>\n",
              "    </tr>\n",
              "  </thead>\n",
              "  <tbody>\n",
              "    <tr>\n",
              "      <th>32</th>\n",
              "      <td>2010-09-20 14:28:39</td>\n",
              "      <td>0</td>\n",
              "    </tr>\n",
              "    <tr>\n",
              "      <th>33</th>\n",
              "      <td>2010-09-20 14:45:13</td>\n",
              "      <td>0</td>\n",
              "    </tr>\n",
              "    <tr>\n",
              "      <th>41</th>\n",
              "      <td>2010-09-20 15:29:26</td>\n",
              "      <td>0</td>\n",
              "    </tr>\n",
              "    <tr>\n",
              "      <th>45</th>\n",
              "      <td>2010-09-20 15:43:10</td>\n",
              "      <td>0</td>\n",
              "    </tr>\n",
              "    <tr>\n",
              "      <th>48</th>\n",
              "      <td>2010-09-20 16:17:02</td>\n",
              "      <td>0</td>\n",
              "    </tr>\n",
              "  </tbody>\n",
              "</table>\n",
              "</div>"
            ],
            "text/plain": [
              "                    ds  y\n",
              "32 2010-09-20 14:28:39  0\n",
              "33 2010-09-20 14:45:13  0\n",
              "41 2010-09-20 15:29:26  0\n",
              "45 2010-09-20 15:43:10  0\n",
              "48 2010-09-20 16:17:02  0"
            ]
          },
          "metadata": {
            "tags": []
          },
          "execution_count": 10
        }
      ]
    },
    {
      "cell_type": "code",
      "metadata": {
        "colab": {
          "base_uri": "https://localhost:8080/",
          "height": 204
        },
        "id": "nt_aErLLVd9V",
        "outputId": "f58b9f39-0b85-405d-a59c-ad87011139ac"
      },
      "source": [
        "# Limit dates to 2010-2019\n",
        "casual_pre2020 = casual_rides_df[casual_rides_df['ds'] <= '2019-12-31']\n",
        "casual_pre2020.head(5) "
      ],
      "execution_count": 12,
      "outputs": [
        {
          "output_type": "execute_result",
          "data": {
            "text/html": [
              "<div>\n",
              "<style scoped>\n",
              "    .dataframe tbody tr th:only-of-type {\n",
              "        vertical-align: middle;\n",
              "    }\n",
              "\n",
              "    .dataframe tbody tr th {\n",
              "        vertical-align: top;\n",
              "    }\n",
              "\n",
              "    .dataframe thead th {\n",
              "        text-align: right;\n",
              "    }\n",
              "</style>\n",
              "<table border=\"1\" class=\"dataframe\">\n",
              "  <thead>\n",
              "    <tr style=\"text-align: right;\">\n",
              "      <th></th>\n",
              "      <th>ds</th>\n",
              "      <th>y</th>\n",
              "    </tr>\n",
              "  </thead>\n",
              "  <tbody>\n",
              "    <tr>\n",
              "      <th>32</th>\n",
              "      <td>2010-09-20 14:28:39</td>\n",
              "      <td>0</td>\n",
              "    </tr>\n",
              "    <tr>\n",
              "      <th>33</th>\n",
              "      <td>2010-09-20 14:45:13</td>\n",
              "      <td>0</td>\n",
              "    </tr>\n",
              "    <tr>\n",
              "      <th>41</th>\n",
              "      <td>2010-09-20 15:29:26</td>\n",
              "      <td>0</td>\n",
              "    </tr>\n",
              "    <tr>\n",
              "      <th>45</th>\n",
              "      <td>2010-09-20 15:43:10</td>\n",
              "      <td>0</td>\n",
              "    </tr>\n",
              "    <tr>\n",
              "      <th>48</th>\n",
              "      <td>2010-09-20 16:17:02</td>\n",
              "      <td>0</td>\n",
              "    </tr>\n",
              "  </tbody>\n",
              "</table>\n",
              "</div>"
            ],
            "text/plain": [
              "                    ds  y\n",
              "32 2010-09-20 14:28:39  0\n",
              "33 2010-09-20 14:45:13  0\n",
              "41 2010-09-20 15:29:26  0\n",
              "45 2010-09-20 15:43:10  0\n",
              "48 2010-09-20 16:17:02  0"
            ]
          },
          "metadata": {
            "tags": []
          },
          "execution_count": 12
        }
      ]
    },
    {
      "cell_type": "code",
      "metadata": {
        "colab": {
          "base_uri": "https://localhost:8080/"
        },
        "id": "mnRXDK4nXnJc",
        "outputId": "4a3e84d9-47a8-47a9-840f-e423e52ca73e"
      },
      "source": [
        "casual_pre2020.shape"
      ],
      "execution_count": 23,
      "outputs": [
        {
          "output_type": "execute_result",
          "data": {
            "text/plain": [
              "(5366097, 2)"
            ]
          },
          "metadata": {
            "tags": []
          },
          "execution_count": 23
        }
      ]
    },
    {
      "cell_type": "code",
      "metadata": {
        "colab": {
          "base_uri": "https://localhost:8080/",
          "height": 204
        },
        "id": "advkYKmykIf0",
        "outputId": "9c284588-2c48-4838-d077-519c594d68e2"
      },
      "source": [
        "# Convert y column zeros to ones ----- df['a'] = np.where((df.a < 0), 0, df.a)  --- https://pythonexamples.org/pandas-dataframe-replace-values-in-column-based-on-condition/\n",
        "import numpy as np\n",
        "casual_pre2020['y'] = np.where((casual_pre2020.y <=0), 1, casual_pre2020.y)\n",
        "casual_pre2020.head()"
      ],
      "execution_count": 24,
      "outputs": [
        {
          "output_type": "execute_result",
          "data": {
            "text/html": [
              "<div>\n",
              "<style scoped>\n",
              "    .dataframe tbody tr th:only-of-type {\n",
              "        vertical-align: middle;\n",
              "    }\n",
              "\n",
              "    .dataframe tbody tr th {\n",
              "        vertical-align: top;\n",
              "    }\n",
              "\n",
              "    .dataframe thead th {\n",
              "        text-align: right;\n",
              "    }\n",
              "</style>\n",
              "<table border=\"1\" class=\"dataframe\">\n",
              "  <thead>\n",
              "    <tr style=\"text-align: right;\">\n",
              "      <th></th>\n",
              "      <th>ds</th>\n",
              "      <th>y</th>\n",
              "    </tr>\n",
              "  </thead>\n",
              "  <tbody>\n",
              "    <tr>\n",
              "      <th>32</th>\n",
              "      <td>2010-09-20 14:28:39</td>\n",
              "      <td>1</td>\n",
              "    </tr>\n",
              "    <tr>\n",
              "      <th>33</th>\n",
              "      <td>2010-09-20 14:45:13</td>\n",
              "      <td>1</td>\n",
              "    </tr>\n",
              "    <tr>\n",
              "      <th>41</th>\n",
              "      <td>2010-09-20 15:29:26</td>\n",
              "      <td>1</td>\n",
              "    </tr>\n",
              "    <tr>\n",
              "      <th>45</th>\n",
              "      <td>2010-09-20 15:43:10</td>\n",
              "      <td>1</td>\n",
              "    </tr>\n",
              "    <tr>\n",
              "      <th>48</th>\n",
              "      <td>2010-09-20 16:17:02</td>\n",
              "      <td>1</td>\n",
              "    </tr>\n",
              "  </tbody>\n",
              "</table>\n",
              "</div>"
            ],
            "text/plain": [
              "                    ds  y\n",
              "32 2010-09-20 14:28:39  1\n",
              "33 2010-09-20 14:45:13  1\n",
              "41 2010-09-20 15:29:26  1\n",
              "45 2010-09-20 15:43:10  1\n",
              "48 2010-09-20 16:17:02  1"
            ]
          },
          "metadata": {
            "tags": []
          },
          "execution_count": 24
        }
      ]
    },
    {
      "cell_type": "code",
      "metadata": {
        "id": "NIrC3Ia1z_Wl",
        "colab": {
          "base_uri": "https://localhost:8080/",
          "height": 235
        },
        "outputId": "5849fdc2-b5a4-4e14-e3e5-cb06078430fd"
      },
      "source": [
        "# Create Weekly bins\n",
        "#df1 = df.resample('M', on='Date').sum()  --- https://www.youtube.com/watch?v=l4dvMiSDBzs\n",
        "casualxweek_df = casual_pre2020.resample('w', on='ds').sum()\n",
        "casualxweek_df.head(5)"
      ],
      "execution_count": 25,
      "outputs": [
        {
          "output_type": "execute_result",
          "data": {
            "text/html": [
              "<div>\n",
              "<style scoped>\n",
              "    .dataframe tbody tr th:only-of-type {\n",
              "        vertical-align: middle;\n",
              "    }\n",
              "\n",
              "    .dataframe tbody tr th {\n",
              "        vertical-align: top;\n",
              "    }\n",
              "\n",
              "    .dataframe thead th {\n",
              "        text-align: right;\n",
              "    }\n",
              "</style>\n",
              "<table border=\"1\" class=\"dataframe\">\n",
              "  <thead>\n",
              "    <tr style=\"text-align: right;\">\n",
              "      <th></th>\n",
              "      <th>y</th>\n",
              "    </tr>\n",
              "    <tr>\n",
              "      <th>ds</th>\n",
              "      <th></th>\n",
              "    </tr>\n",
              "  </thead>\n",
              "  <tbody>\n",
              "    <tr>\n",
              "      <th>2010-09-26</th>\n",
              "      <td>1037</td>\n",
              "    </tr>\n",
              "    <tr>\n",
              "      <th>2010-10-03</th>\n",
              "      <td>1044</td>\n",
              "    </tr>\n",
              "    <tr>\n",
              "      <th>2010-10-10</th>\n",
              "      <td>1809</td>\n",
              "    </tr>\n",
              "    <tr>\n",
              "      <th>2010-10-17</th>\n",
              "      <td>2351</td>\n",
              "    </tr>\n",
              "    <tr>\n",
              "      <th>2010-10-24</th>\n",
              "      <td>2463</td>\n",
              "    </tr>\n",
              "  </tbody>\n",
              "</table>\n",
              "</div>"
            ],
            "text/plain": [
              "               y\n",
              "ds              \n",
              "2010-09-26  1037\n",
              "2010-10-03  1044\n",
              "2010-10-10  1809\n",
              "2010-10-17  2351\n",
              "2010-10-24  2463"
            ]
          },
          "metadata": {
            "tags": []
          },
          "execution_count": 25
        }
      ]
    },
    {
      "cell_type": "code",
      "metadata": {
        "colab": {
          "base_uri": "https://localhost:8080/"
        },
        "id": "xS0IiqQ2YEnW",
        "outputId": "9f6681b8-c8f9-4ea6-b40e-e72f9676d6ff"
      },
      "source": [
        "casualxweek_df.shape"
      ],
      "execution_count": 26,
      "outputs": [
        {
          "output_type": "execute_result",
          "data": {
            "text/plain": [
              "(485, 1)"
            ]
          },
          "metadata": {
            "tags": []
          },
          "execution_count": 26
        }
      ]
    },
    {
      "cell_type": "code",
      "metadata": {
        "colab": {
          "base_uri": "https://localhost:8080/",
          "height": 204
        },
        "id": "sEF15BScT46C",
        "outputId": "7ebd99b4-7ddc-49ad-df5d-376c64b1fcf9"
      },
      "source": [
        "# Create new column from 'index'\n",
        "casualxweek_df.reset_index(inplace=True)\n",
        "casualxweek_df = casualxweek_df.rename(columns = {'ds':'ds'})\n",
        "casualxweek_df.head()"
      ],
      "execution_count": 27,
      "outputs": [
        {
          "output_type": "execute_result",
          "data": {
            "text/html": [
              "<div>\n",
              "<style scoped>\n",
              "    .dataframe tbody tr th:only-of-type {\n",
              "        vertical-align: middle;\n",
              "    }\n",
              "\n",
              "    .dataframe tbody tr th {\n",
              "        vertical-align: top;\n",
              "    }\n",
              "\n",
              "    .dataframe thead th {\n",
              "        text-align: right;\n",
              "    }\n",
              "</style>\n",
              "<table border=\"1\" class=\"dataframe\">\n",
              "  <thead>\n",
              "    <tr style=\"text-align: right;\">\n",
              "      <th></th>\n",
              "      <th>ds</th>\n",
              "      <th>y</th>\n",
              "    </tr>\n",
              "  </thead>\n",
              "  <tbody>\n",
              "    <tr>\n",
              "      <th>0</th>\n",
              "      <td>2010-09-26</td>\n",
              "      <td>1037</td>\n",
              "    </tr>\n",
              "    <tr>\n",
              "      <th>1</th>\n",
              "      <td>2010-10-03</td>\n",
              "      <td>1044</td>\n",
              "    </tr>\n",
              "    <tr>\n",
              "      <th>2</th>\n",
              "      <td>2010-10-10</td>\n",
              "      <td>1809</td>\n",
              "    </tr>\n",
              "    <tr>\n",
              "      <th>3</th>\n",
              "      <td>2010-10-17</td>\n",
              "      <td>2351</td>\n",
              "    </tr>\n",
              "    <tr>\n",
              "      <th>4</th>\n",
              "      <td>2010-10-24</td>\n",
              "      <td>2463</td>\n",
              "    </tr>\n",
              "  </tbody>\n",
              "</table>\n",
              "</div>"
            ],
            "text/plain": [
              "          ds     y\n",
              "0 2010-09-26  1037\n",
              "1 2010-10-03  1044\n",
              "2 2010-10-10  1809\n",
              "3 2010-10-17  2351\n",
              "4 2010-10-24  2463"
            ]
          },
          "metadata": {
            "tags": []
          },
          "execution_count": 27
        }
      ]
    },
    {
      "cell_type": "code",
      "metadata": {
        "colab": {
          "base_uri": "https://localhost:8080/"
        },
        "id": "9oYD-dWIV8lm",
        "outputId": "cb6e3b96-82db-4677-adc9-e44d239da37d"
      },
      "source": [
        "casualxweek_df.shape"
      ],
      "execution_count": 28,
      "outputs": [
        {
          "output_type": "execute_result",
          "data": {
            "text/plain": [
              "(485, 2)"
            ]
          },
          "metadata": {
            "tags": []
          },
          "execution_count": 28
        }
      ]
    },
    {
      "cell_type": "code",
      "metadata": {
        "colab": {
          "base_uri": "https://localhost:8080/"
        },
        "id": "HTK6FpJ8ZW7O",
        "outputId": "37731129-306e-44c2-e409-d2619dc9f106"
      },
      "source": [
        "casualxweek_df.dtypes"
      ],
      "execution_count": 29,
      "outputs": [
        {
          "output_type": "execute_result",
          "data": {
            "text/plain": [
              "ds    datetime64[ns]\n",
              "y              int64\n",
              "dtype: object"
            ]
          },
          "metadata": {
            "tags": []
          },
          "execution_count": 29
        }
      ]
    },
    {
      "cell_type": "code",
      "metadata": {
        "colab": {
          "base_uri": "https://localhost:8080/",
          "height": 296
        },
        "id": "Dfdi7PceWmnP",
        "outputId": "cecf7e33-b480-42e4-ccc5-1648d4c66ab9"
      },
      "source": [
        "casualxweek_df.plot(x='ds', y='y')"
      ],
      "execution_count": 30,
      "outputs": [
        {
          "output_type": "execute_result",
          "data": {
            "text/plain": [
              "<matplotlib.axes._subplots.AxesSubplot at 0x7fbec6a09410>"
            ]
          },
          "metadata": {
            "tags": []
          },
          "execution_count": 30
        },
        {
          "output_type": "display_data",
          "data": {
            "image/png": "[encoded data removed]",
            "text/plain": [
              "<Figure size 432x288 with 1 Axes>"
            ]
          },
          "metadata": {
            "tags": [],
            "needs_background": "light"
          }
        }
      ]
    },
    {
      "cell_type": "code",
      "metadata": {
        "colab": {
          "base_uri": "https://localhost:8080/",
          "height": 204
        },
        "id": "LJZO_tHAE3YM",
        "outputId": "8ddd0208-efc3-44f1-8fc1-c4edacbe6155"
      },
      "source": [
        "# Create a train dataframe\n",
        "train = casualxweek_df[casualxweek_df['ds'] <= '2017-12-31']\n",
        "train.head(5)"
      ],
      "execution_count": 34,
      "outputs": [
        {
          "output_type": "execute_result",
          "data": {
            "text/html": [
              "<div>\n",
              "<style scoped>\n",
              "    .dataframe tbody tr th:only-of-type {\n",
              "        vertical-align: middle;\n",
              "    }\n",
              "\n",
              "    .dataframe tbody tr th {\n",
              "        vertical-align: top;\n",
              "    }\n",
              "\n",
              "    .dataframe thead th {\n",
              "        text-align: right;\n",
              "    }\n",
              "</style>\n",
              "<table border=\"1\" class=\"dataframe\">\n",
              "  <thead>\n",
              "    <tr style=\"text-align: right;\">\n",
              "      <th></th>\n",
              "      <th>ds</th>\n",
              "      <th>y</th>\n",
              "    </tr>\n",
              "  </thead>\n",
              "  <tbody>\n",
              "    <tr>\n",
              "      <th>0</th>\n",
              "      <td>2010-09-26</td>\n",
              "      <td>1037</td>\n",
              "    </tr>\n",
              "    <tr>\n",
              "      <th>1</th>\n",
              "      <td>2010-10-03</td>\n",
              "      <td>1044</td>\n",
              "    </tr>\n",
              "    <tr>\n",
              "      <th>2</th>\n",
              "      <td>2010-10-10</td>\n",
              "      <td>1809</td>\n",
              "    </tr>\n",
              "    <tr>\n",
              "      <th>3</th>\n",
              "      <td>2010-10-17</td>\n",
              "      <td>2351</td>\n",
              "    </tr>\n",
              "    <tr>\n",
              "      <th>4</th>\n",
              "      <td>2010-10-24</td>\n",
              "      <td>2463</td>\n",
              "    </tr>\n",
              "  </tbody>\n",
              "</table>\n",
              "</div>"
            ],
            "text/plain": [
              "          ds     y\n",
              "0 2010-09-26  1037\n",
              "1 2010-10-03  1044\n",
              "2 2010-10-10  1809\n",
              "3 2010-10-17  2351\n",
              "4 2010-10-24  2463"
            ]
          },
          "metadata": {
            "tags": []
          },
          "execution_count": 34
        }
      ]
    },
    {
      "cell_type": "code",
      "metadata": {
        "colab": {
          "base_uri": "https://localhost:8080/"
        },
        "id": "-u7ZVnfwWS6B",
        "outputId": "a43f1cdf-598f-45b6-e5e5-3bd10140c099"
      },
      "source": [
        "train.shape"
      ],
      "execution_count": 35,
      "outputs": [
        {
          "output_type": "execute_result",
          "data": {
            "text/plain": [
              "(380, 2)"
            ]
          },
          "metadata": {
            "tags": []
          },
          "execution_count": 35
        }
      ]
    },
    {
      "cell_type": "code",
      "metadata": {
        "id": "wWwpCgvCDC-e"
      },
      "source": [
        "# Crete a test dataframe\n",
        "test = casualxweek_df[casualxweek_df['ds'] >= '2017-12-31']"
      ],
      "execution_count": 36,
      "outputs": []
    },
    {
      "cell_type": "code",
      "metadata": {
        "colab": {
          "base_uri": "https://localhost:8080/",
          "height": 204
        },
        "id": "xp2-Sc1NXokS",
        "outputId": "5e17bb00-dfb1-436d-910f-8352a3d29a74"
      },
      "source": [
        "test.head()"
      ],
      "execution_count": 37,
      "outputs": [
        {
          "output_type": "execute_result",
          "data": {
            "text/html": [
              "<div>\n",
              "<style scoped>\n",
              "    .dataframe tbody tr th:only-of-type {\n",
              "        vertical-align: middle;\n",
              "    }\n",
              "\n",
              "    .dataframe tbody tr th {\n",
              "        vertical-align: top;\n",
              "    }\n",
              "\n",
              "    .dataframe thead th {\n",
              "        text-align: right;\n",
              "    }\n",
              "</style>\n",
              "<table border=\"1\" class=\"dataframe\">\n",
              "  <thead>\n",
              "    <tr style=\"text-align: right;\">\n",
              "      <th></th>\n",
              "      <th>ds</th>\n",
              "      <th>y</th>\n",
              "    </tr>\n",
              "  </thead>\n",
              "  <tbody>\n",
              "    <tr>\n",
              "      <th>379</th>\n",
              "      <td>2017-12-31</td>\n",
              "      <td>2070</td>\n",
              "    </tr>\n",
              "    <tr>\n",
              "      <th>380</th>\n",
              "      <td>2018-01-07</td>\n",
              "      <td>909</td>\n",
              "    </tr>\n",
              "    <tr>\n",
              "      <th>381</th>\n",
              "      <td>2018-01-14</td>\n",
              "      <td>3152</td>\n",
              "    </tr>\n",
              "    <tr>\n",
              "      <th>382</th>\n",
              "      <td>2018-01-21</td>\n",
              "      <td>5816</td>\n",
              "    </tr>\n",
              "    <tr>\n",
              "      <th>383</th>\n",
              "      <td>2018-01-28</td>\n",
              "      <td>6155</td>\n",
              "    </tr>\n",
              "  </tbody>\n",
              "</table>\n",
              "</div>"
            ],
            "text/plain": [
              "            ds     y\n",
              "379 2017-12-31  2070\n",
              "380 2018-01-07   909\n",
              "381 2018-01-14  3152\n",
              "382 2018-01-21  5816\n",
              "383 2018-01-28  6155"
            ]
          },
          "metadata": {
            "tags": []
          },
          "execution_count": 37
        }
      ]
    },
    {
      "cell_type": "code",
      "metadata": {
        "colab": {
          "base_uri": "https://localhost:8080/",
          "height": 204
        },
        "id": "lGR1_MQQYxgH",
        "outputId": "d3253841-ccd4-476d-ddf6-d6ebeb55f947"
      },
      "source": [
        "test.tail()"
      ],
      "execution_count": 38,
      "outputs": [
        {
          "output_type": "execute_result",
          "data": {
            "text/html": [
              "<div>\n",
              "<style scoped>\n",
              "    .dataframe tbody tr th:only-of-type {\n",
              "        vertical-align: middle;\n",
              "    }\n",
              "\n",
              "    .dataframe tbody tr th {\n",
              "        vertical-align: top;\n",
              "    }\n",
              "\n",
              "    .dataframe thead th {\n",
              "        text-align: right;\n",
              "    }\n",
              "</style>\n",
              "<table border=\"1\" class=\"dataframe\">\n",
              "  <thead>\n",
              "    <tr style=\"text-align: right;\">\n",
              "      <th></th>\n",
              "      <th>ds</th>\n",
              "      <th>y</th>\n",
              "    </tr>\n",
              "  </thead>\n",
              "  <tbody>\n",
              "    <tr>\n",
              "      <th>480</th>\n",
              "      <td>2019-12-08</td>\n",
              "      <td>2133</td>\n",
              "    </tr>\n",
              "    <tr>\n",
              "      <th>481</th>\n",
              "      <td>2019-12-15</td>\n",
              "      <td>1430</td>\n",
              "    </tr>\n",
              "    <tr>\n",
              "      <th>482</th>\n",
              "      <td>2019-12-22</td>\n",
              "      <td>1251</td>\n",
              "    </tr>\n",
              "    <tr>\n",
              "      <th>483</th>\n",
              "      <td>2019-12-29</td>\n",
              "      <td>4770</td>\n",
              "    </tr>\n",
              "    <tr>\n",
              "      <th>484</th>\n",
              "      <td>2020-01-05</td>\n",
              "      <td>724</td>\n",
              "    </tr>\n",
              "  </tbody>\n",
              "</table>\n",
              "</div>"
            ],
            "text/plain": [
              "            ds     y\n",
              "480 2019-12-08  2133\n",
              "481 2019-12-15  1430\n",
              "482 2019-12-22  1251\n",
              "483 2019-12-29  4770\n",
              "484 2020-01-05   724"
            ]
          },
          "metadata": {
            "tags": []
          },
          "execution_count": 38
        }
      ]
    },
    {
      "cell_type": "code",
      "metadata": {
        "colab": {
          "base_uri": "https://localhost:8080/"
        },
        "id": "7N0dyqNwenz7",
        "outputId": "1e05fbfb-02ef-4aa4-97a3-b4370cb96acb"
      },
      "source": [
        "print(f\"Number of months in train data: {len(train)}\")\n",
        "print(f\"Number of months in test data: {len(test)}\")"
      ],
      "execution_count": 39,
      "outputs": [
        {
          "output_type": "stream",
          "text": [
            "Number of months in train data: 380\n",
            "Number of months in test data: 106\n"
          ],
          "name": "stdout"
        }
      ]
    },
    {
      "cell_type": "code",
      "metadata": {
        "id": "ZeuZT1cam2f1",
        "colab": {
          "base_uri": "https://localhost:8080/"
        },
        "outputId": "aafe8905-a3a1-47cc-bf77-55e1bd9e639c"
      },
      "source": [
        "# Instantiate and fit the Prophet model \n",
        "m = Prophet(interval_width=0.95, weekly_seasonality=True, changepoint_range=0.9)\n",
        "model = m.fit(train)"
      ],
      "execution_count": 41,
      "outputs": [
        {
          "output_type": "stream",
          "text": [
            "INFO:fbprophet:Disabling daily seasonality. Run prophet with daily_seasonality=True to override this.\n"
          ],
          "name": "stderr"
        }
      ]
    },
    {
      "cell_type": "code",
      "metadata": {
        "id": "6aaTJr3u4hDV",
        "colab": {
          "base_uri": "https://localhost:8080/",
          "height": 204
        },
        "outputId": "397c1108-f098-4cca-fa35-5c797061f07d"
      },
      "source": [
        "# Set parameters for predictions\n",
        "casual_weekly_future_data = model.make_future_dataframe(periods=106, freq='w')\n",
        "casual_weekly_future_data.tail()"
      ],
      "execution_count": 45,
      "outputs": [
        {
          "output_type": "execute_result",
          "data": {
            "text/html": [
              "<div>\n",
              "<style scoped>\n",
              "    .dataframe tbody tr th:only-of-type {\n",
              "        vertical-align: middle;\n",
              "    }\n",
              "\n",
              "    .dataframe tbody tr th {\n",
              "        vertical-align: top;\n",
              "    }\n",
              "\n",
              "    .dataframe thead th {\n",
              "        text-align: right;\n",
              "    }\n",
              "</style>\n",
              "<table border=\"1\" class=\"dataframe\">\n",
              "  <thead>\n",
              "    <tr style=\"text-align: right;\">\n",
              "      <th></th>\n",
              "      <th>ds</th>\n",
              "    </tr>\n",
              "  </thead>\n",
              "  <tbody>\n",
              "    <tr>\n",
              "      <th>481</th>\n",
              "      <td>2019-12-15</td>\n",
              "    </tr>\n",
              "    <tr>\n",
              "      <th>482</th>\n",
              "      <td>2019-12-22</td>\n",
              "    </tr>\n",
              "    <tr>\n",
              "      <th>483</th>\n",
              "      <td>2019-12-29</td>\n",
              "    </tr>\n",
              "    <tr>\n",
              "      <th>484</th>\n",
              "      <td>2020-01-05</td>\n",
              "    </tr>\n",
              "    <tr>\n",
              "      <th>485</th>\n",
              "      <td>2020-01-12</td>\n",
              "    </tr>\n",
              "  </tbody>\n",
              "</table>\n",
              "</div>"
            ],
            "text/plain": [
              "            ds\n",
              "481 2019-12-15\n",
              "482 2019-12-22\n",
              "483 2019-12-29\n",
              "484 2020-01-05\n",
              "485 2020-01-12"
            ]
          },
          "metadata": {
            "tags": []
          },
          "execution_count": 45
        }
      ]
    },
    {
      "cell_type": "code",
      "metadata": {
        "id": "nySTLx3J4rwF"
      },
      "source": [
        "# Make predictions\n",
        "casual_weekly_forecast_data = model.predict(casual_weekly_future_data)"
      ],
      "execution_count": 48,
      "outputs": []
    },
    {
      "cell_type": "code",
      "metadata": {
        "colab": {
          "base_uri": "https://localhost:8080/",
          "height": 441
        },
        "id": "Z7Z9O1rX2YJ5",
        "outputId": "6ac315e2-5399-4427-afd3-896a8f6653bc"
      },
      "source": [
        "# Prophet's own plotting tool to see \n",
        "casual_weekly_predict_fig = m.plot(casual_weekly_forecast_data)\n",
        "plt.ylabel('Weekly Rides: Casual')\n",
        "plt.legend(['Actual', 'Prediction', 'Confidence interval'])\n",
        "plt.show()"
      ],
      "execution_count": 62,
      "outputs": [
        {
          "output_type": "display_data",
          "data": {
            "image/png": "[encoded data removed]",
            "text/plain": [
              "<Figure size 720x432 with 1 Axes>"
            ]
          },
          "metadata": {
            "tags": []
          }
        }
      ]
    },
    {
      "cell_type": "code",
      "metadata": {
        "colab": {
          "base_uri": "https://localhost:8080/",
          "height": 204
        },
        "id": "YvaLcAxl4sh_",
        "outputId": "e2e776a6-2843-4b30-b22c-5b93f04a65ca"
      },
      "source": [
        "# Check components\n",
        "casual_weekly_forecast_data[['ds', 'yhat', 'yhat_lower', 'yhat_upper']].tail()"
      ],
      "execution_count": 50,
      "outputs": [
        {
          "output_type": "execute_result",
          "data": {
            "text/html": [
              "<div>\n",
              "<style scoped>\n",
              "    .dataframe tbody tr th:only-of-type {\n",
              "        vertical-align: middle;\n",
              "    }\n",
              "\n",
              "    .dataframe tbody tr th {\n",
              "        vertical-align: top;\n",
              "    }\n",
              "\n",
              "    .dataframe thead th {\n",
              "        text-align: right;\n",
              "    }\n",
              "</style>\n",
              "<table border=\"1\" class=\"dataframe\">\n",
              "  <thead>\n",
              "    <tr style=\"text-align: right;\">\n",
              "      <th></th>\n",
              "      <th>ds</th>\n",
              "      <th>yhat</th>\n",
              "      <th>yhat_lower</th>\n",
              "      <th>yhat_upper</th>\n",
              "    </tr>\n",
              "  </thead>\n",
              "  <tbody>\n",
              "    <tr>\n",
              "      <th>481</th>\n",
              "      <td>2019-12-15</td>\n",
              "      <td>14849.139519</td>\n",
              "      <td>7889.594977</td>\n",
              "      <td>21810.383659</td>\n",
              "    </tr>\n",
              "    <tr>\n",
              "      <th>482</th>\n",
              "      <td>2019-12-22</td>\n",
              "      <td>15139.870615</td>\n",
              "      <td>8092.638080</td>\n",
              "      <td>22074.404859</td>\n",
              "    </tr>\n",
              "    <tr>\n",
              "      <th>483</th>\n",
              "      <td>2019-12-29</td>\n",
              "      <td>16193.104147</td>\n",
              "      <td>9562.351295</td>\n",
              "      <td>23397.189779</td>\n",
              "    </tr>\n",
              "    <tr>\n",
              "      <th>484</th>\n",
              "      <td>2020-01-05</td>\n",
              "      <td>16796.649835</td>\n",
              "      <td>9680.540655</td>\n",
              "      <td>23741.228681</td>\n",
              "    </tr>\n",
              "    <tr>\n",
              "      <th>485</th>\n",
              "      <td>2020-01-12</td>\n",
              "      <td>16424.280697</td>\n",
              "      <td>9662.826818</td>\n",
              "      <td>23722.176496</td>\n",
              "    </tr>\n",
              "  </tbody>\n",
              "</table>\n",
              "</div>"
            ],
            "text/plain": [
              "            ds          yhat   yhat_lower    yhat_upper\n",
              "481 2019-12-15  14849.139519  7889.594977  21810.383659\n",
              "482 2019-12-22  15139.870615  8092.638080  22074.404859\n",
              "483 2019-12-29  16193.104147  9562.351295  23397.189779\n",
              "484 2020-01-05  16796.649835  9680.540655  23741.228681\n",
              "485 2020-01-12  16424.280697  9662.826818  23722.176496"
            ]
          },
          "metadata": {
            "tags": []
          },
          "execution_count": 50
        }
      ]
    },
    {
      "cell_type": "code",
      "metadata": {
        "colab": {
          "base_uri": "https://localhost:8080/",
          "height": 309
        },
        "id": "RFDHUykTm4HV",
        "outputId": "f10e9ef2-57cf-498d-98b4-9318b9434681"
      },
      "source": [
        "casual_weekly_forecast_data.head()"
      ],
      "execution_count": 51,
      "outputs": [
        {
          "output_type": "execute_result",
          "data": {
            "text/html": [
              "<div>\n",
              "<style scoped>\n",
              "    .dataframe tbody tr th:only-of-type {\n",
              "        vertical-align: middle;\n",
              "    }\n",
              "\n",
              "    .dataframe tbody tr th {\n",
              "        vertical-align: top;\n",
              "    }\n",
              "\n",
              "    .dataframe thead th {\n",
              "        text-align: right;\n",
              "    }\n",
              "</style>\n",
              "<table border=\"1\" class=\"dataframe\">\n",
              "  <thead>\n",
              "    <tr style=\"text-align: right;\">\n",
              "      <th></th>\n",
              "      <th>ds</th>\n",
              "      <th>trend</th>\n",
              "      <th>yhat_lower</th>\n",
              "      <th>yhat_upper</th>\n",
              "      <th>trend_lower</th>\n",
              "      <th>trend_upper</th>\n",
              "      <th>additive_terms</th>\n",
              "      <th>additive_terms_lower</th>\n",
              "      <th>additive_terms_upper</th>\n",
              "      <th>weekly</th>\n",
              "      <th>weekly_lower</th>\n",
              "      <th>weekly_upper</th>\n",
              "      <th>yearly</th>\n",
              "      <th>yearly_lower</th>\n",
              "      <th>yearly_upper</th>\n",
              "      <th>multiplicative_terms</th>\n",
              "      <th>multiplicative_terms_lower</th>\n",
              "      <th>multiplicative_terms_upper</th>\n",
              "      <th>yhat</th>\n",
              "    </tr>\n",
              "  </thead>\n",
              "  <tbody>\n",
              "    <tr>\n",
              "      <th>0</th>\n",
              "      <td>2010-09-26</td>\n",
              "      <td>1778.289134</td>\n",
              "      <td>-1638.987578</td>\n",
              "      <td>12226.006798</td>\n",
              "      <td>1778.289134</td>\n",
              "      <td>1778.289134</td>\n",
              "      <td>3625.459851</td>\n",
              "      <td>3625.459851</td>\n",
              "      <td>3625.459851</td>\n",
              "      <td>2228.279973</td>\n",
              "      <td>2228.279973</td>\n",
              "      <td>2228.279973</td>\n",
              "      <td>1397.179878</td>\n",
              "      <td>1397.179878</td>\n",
              "      <td>1397.179878</td>\n",
              "      <td>0.0</td>\n",
              "      <td>0.0</td>\n",
              "      <td>0.0</td>\n",
              "      <td>5403.748985</td>\n",
              "    </tr>\n",
              "    <tr>\n",
              "      <th>1</th>\n",
              "      <td>2010-10-03</td>\n",
              "      <td>1812.397355</td>\n",
              "      <td>-3417.256194</td>\n",
              "      <td>10859.235414</td>\n",
              "      <td>1812.397355</td>\n",
              "      <td>1812.397355</td>\n",
              "      <td>2485.676808</td>\n",
              "      <td>2485.676808</td>\n",
              "      <td>2485.676808</td>\n",
              "      <td>2228.279973</td>\n",
              "      <td>2228.279973</td>\n",
              "      <td>2228.279973</td>\n",
              "      <td>257.396835</td>\n",
              "      <td>257.396835</td>\n",
              "      <td>257.396835</td>\n",
              "      <td>0.0</td>\n",
              "      <td>0.0</td>\n",
              "      <td>0.0</td>\n",
              "      <td>4298.074162</td>\n",
              "    </tr>\n",
              "    <tr>\n",
              "      <th>2</th>\n",
              "      <td>2010-10-10</td>\n",
              "      <td>1846.505575</td>\n",
              "      <td>-2721.230926</td>\n",
              "      <td>11818.963532</td>\n",
              "      <td>1846.505575</td>\n",
              "      <td>1846.505575</td>\n",
              "      <td>2625.323327</td>\n",
              "      <td>2625.323327</td>\n",
              "      <td>2625.323327</td>\n",
              "      <td>2228.279973</td>\n",
              "      <td>2228.279973</td>\n",
              "      <td>2228.279973</td>\n",
              "      <td>397.043354</td>\n",
              "      <td>397.043354</td>\n",
              "      <td>397.043354</td>\n",
              "      <td>0.0</td>\n",
              "      <td>0.0</td>\n",
              "      <td>0.0</td>\n",
              "      <td>4471.828902</td>\n",
              "    </tr>\n",
              "    <tr>\n",
              "      <th>3</th>\n",
              "      <td>2010-10-17</td>\n",
              "      <td>1880.613796</td>\n",
              "      <td>-1599.041255</td>\n",
              "      <td>12510.881466</td>\n",
              "      <td>1880.613796</td>\n",
              "      <td>1880.613796</td>\n",
              "      <td>3210.101495</td>\n",
              "      <td>3210.101495</td>\n",
              "      <td>3210.101495</td>\n",
              "      <td>2228.279973</td>\n",
              "      <td>2228.279973</td>\n",
              "      <td>2228.279973</td>\n",
              "      <td>981.821522</td>\n",
              "      <td>981.821522</td>\n",
              "      <td>981.821522</td>\n",
              "      <td>0.0</td>\n",
              "      <td>0.0</td>\n",
              "      <td>0.0</td>\n",
              "      <td>5090.715291</td>\n",
              "    </tr>\n",
              "    <tr>\n",
              "      <th>4</th>\n",
              "      <td>2010-10-24</td>\n",
              "      <td>1914.722017</td>\n",
              "      <td>-2250.526732</td>\n",
              "      <td>11991.414927</td>\n",
              "      <td>1914.722017</td>\n",
              "      <td>1914.722017</td>\n",
              "      <td>2804.772282</td>\n",
              "      <td>2804.772282</td>\n",
              "      <td>2804.772282</td>\n",
              "      <td>2228.279973</td>\n",
              "      <td>2228.279973</td>\n",
              "      <td>2228.279973</td>\n",
              "      <td>576.492310</td>\n",
              "      <td>576.492310</td>\n",
              "      <td>576.492310</td>\n",
              "      <td>0.0</td>\n",
              "      <td>0.0</td>\n",
              "      <td>0.0</td>\n",
              "      <td>4719.494299</td>\n",
              "    </tr>\n",
              "  </tbody>\n",
              "</table>\n",
              "</div>"
            ],
            "text/plain": [
              "          ds        trend  ...  multiplicative_terms_upper         yhat\n",
              "0 2010-09-26  1778.289134  ...                         0.0  5403.748985\n",
              "1 2010-10-03  1812.397355  ...                         0.0  4298.074162\n",
              "2 2010-10-10  1846.505575  ...                         0.0  4471.828902\n",
              "3 2010-10-17  1880.613796  ...                         0.0  5090.715291\n",
              "4 2010-10-24  1914.722017  ...                         0.0  4719.494299\n",
              "\n",
              "[5 rows x 19 columns]"
            ]
          },
          "metadata": {
            "tags": []
          },
          "execution_count": 51
        }
      ]
    },
    {
      "cell_type": "code",
      "metadata": {
        "id": "0jdF9Tag46hF",
        "colab": {
          "base_uri": "https://localhost:8080/",
          "height": 657
        },
        "outputId": "658f8021-fd4d-4387-c841-bdbb5e59a703"
      },
      "source": [
        "# Decompose outputs\n",
        "casual_weekly_fig = model.plot_components(casual_weekly_forecast_data)"
      ],
      "execution_count": 74,
      "outputs": [
        {
          "output_type": "display_data",
          "data": {
            "image/png": "[encoded data removed]",
            "text/plain": [
              "<Figure size 648x648 with 3 Axes>"
            ]
          },
          "metadata": {
            "tags": []
          }
        }
      ]
    },
    {
      "cell_type": "code",
      "metadata": {
        "colab": {
          "base_uri": "https://localhost:8080/",
          "height": 441
        },
        "id": "dJ1qDcqcYvBp",
        "outputId": "ec6c9bb6-ab13-4e58-e487-5c5053488d34"
      },
      "source": [
        "# Plot changepoints\n",
        "from fbprophet.plot import add_changepoints_to_plot\n",
        "casual_weekly_cp_fig = m.plot(casual_weekly_forecast_data)\n",
        "a = add_changepoints_to_plot(casual_weekly_cp_fig.gca(), m, casual_weekly_forecast_data)"
      ],
      "execution_count": 53,
      "outputs": [
        {
          "output_type": "display_data",
          "data": {
            "image/png": "[encoded data removed]",
            "text/plain": [
              "<Figure size 720x432 with 1 Axes>"
            ]
          },
          "metadata": {
            "tags": []
          }
        }
      ]
    },
    {
      "cell_type": "code",
      "metadata": {
        "colab": {
          "base_uri": "https://localhost:8080/"
        },
        "id": "VVnJWDguZoiN",
        "outputId": "f4676423-8f97-47fb-f8f3-201275e548ad"
      },
      "source": [
        "deltas = m.params['delta'].mean(0)\n",
        "deltas"
      ],
      "execution_count": 54,
      "outputs": [
        {
          "output_type": "execute_result",
          "data": {
            "text/plain": [
              "array([ 5.32822417e-09,  8.17391066e-07,  3.29161734e-02,  9.27119610e-07,\n",
              "       -1.37668804e-09,  1.26664209e-08,  2.84976091e-08,  2.56607698e-08,\n",
              "        5.55428479e-09, -3.60761958e-09,  3.50975201e-09, -8.82042073e-09,\n",
              "        1.12711820e-08,  8.19877703e-09,  9.96173043e-09,  7.02539719e-10,\n",
              "        4.52604559e-08,  1.91333488e-08,  3.78462981e-05,  3.56101668e-02,\n",
              "        4.06507152e-02,  1.88135477e-04, -1.02653958e-08,  7.39317181e-09,\n",
              "       -2.97946260e-10])"
            ]
          },
          "metadata": {
            "tags": []
          },
          "execution_count": 54
        }
      ]
    },
    {
      "cell_type": "code",
      "metadata": {
        "colab": {
          "base_uri": "https://localhost:8080/",
          "height": 297
        },
        "id": "9J5YVZXCZ1l2",
        "outputId": "177ccd61-34fa-44f9-846d-ea9cd2fd3b6c"
      },
      "source": [
        "# Plot changepoint changes\n",
        "fig= plt.figure(facecolor='w')\n",
        "ax = fig.add_subplot(111)\n",
        "ax.bar(range(len(deltas)), deltas)\n",
        "ax.grid(True, which='major', c='red', ls='-', lw=1, alpha=0.2)\n",
        "ax.set_ylabel('Rate change')\n",
        "ax.set_xlabel('change point')\n",
        "fig.tight_layout()"
      ],
      "execution_count": 58,
      "outputs": [
        {
          "output_type": "display_data",
          "data": {
            "image/png": "[encoded data removed]",
            "text/plain": [
              "<Figure size 432x288 with 1 Axes>"
            ]
          },
          "metadata": {
            "tags": []
          }
        }
      ]
    },
    {
      "cell_type": "code",
      "metadata": {
        "colab": {
          "base_uri": "https://localhost:8080/",
          "height": 309
        },
        "id": "Riv0a0O2dOcH",
        "outputId": "7a24d493-d4bb-40e0-f1d6-c0146338b271"
      },
      "source": [
        "# Cross Validation\n",
        "from fbprophet.diagnostics import cross_validation\n",
        "casual_weekly_cv_results = cross_validation(model=m, initial='366', horizon='180 days', parallel='processes')\n",
        "casual_weekly_cv_results.head()"
      ],
      "execution_count": 59,
      "outputs": [
        {
          "output_type": "stream",
          "text": [
            "INFO:fbprophet:Making 28 forecasts with cutoffs between 2010-11-08 00:00:00 and 2017-07-04 00:00:00\n",
            "WARNING:fbprophet:Seasonality has period of 365.25 days which is larger than initial window. Consider increasing initial.\n",
            "INFO:fbprophet:Applying in parallel with <concurrent.futures.process.ProcessPoolExecutor object at 0x7fbec4ad7410>\n",
            "INFO:fbprophet:n_changepoints greater than number of observations. Using 5.\n",
            "INFO:fbprophet:n_changepoints greater than number of observations. Using 17.\n"
          ],
          "name": "stderr"
        },
        {
          "output_type": "execute_result",
          "data": {
            "text/html": [
              "<div>\n",
              "<style scoped>\n",
              "    .dataframe tbody tr th:only-of-type {\n",
              "        vertical-align: middle;\n",
              "    }\n",
              "\n",
              "    .dataframe tbody tr th {\n",
              "        vertical-align: top;\n",
              "    }\n",
              "\n",
              "    .dataframe thead th {\n",
              "        text-align: right;\n",
              "    }\n",
              "</style>\n",
              "<table border=\"1\" class=\"dataframe\">\n",
              "  <thead>\n",
              "    <tr style=\"text-align: right;\">\n",
              "      <th></th>\n",
              "      <th>ds</th>\n",
              "      <th>yhat</th>\n",
              "      <th>yhat_lower</th>\n",
              "      <th>yhat_upper</th>\n",
              "      <th>y</th>\n",
              "      <th>cutoff</th>\n",
              "    </tr>\n",
              "  </thead>\n",
              "  <tbody>\n",
              "    <tr>\n",
              "      <th>0</th>\n",
              "      <td>2010-11-14</td>\n",
              "      <td>-12575.177113</td>\n",
              "      <td>-12690.972292</td>\n",
              "      <td>-12467.065482</td>\n",
              "      <td>3154</td>\n",
              "      <td>2010-11-08</td>\n",
              "    </tr>\n",
              "    <tr>\n",
              "      <th>1</th>\n",
              "      <td>2010-11-21</td>\n",
              "      <td>-45498.791295</td>\n",
              "      <td>-45800.015260</td>\n",
              "      <td>-45201.644678</td>\n",
              "      <td>2301</td>\n",
              "      <td>2010-11-08</td>\n",
              "    </tr>\n",
              "    <tr>\n",
              "      <th>2</th>\n",
              "      <td>2010-11-28</td>\n",
              "      <td>-84112.499614</td>\n",
              "      <td>-84639.441000</td>\n",
              "      <td>-83566.999985</td>\n",
              "      <td>1537</td>\n",
              "      <td>2010-11-08</td>\n",
              "    </tr>\n",
              "    <tr>\n",
              "      <th>3</th>\n",
              "      <td>2010-12-05</td>\n",
              "      <td>-101917.364527</td>\n",
              "      <td>-102691.891468</td>\n",
              "      <td>-101116.855011</td>\n",
              "      <td>844</td>\n",
              "      <td>2010-11-08</td>\n",
              "    </tr>\n",
              "    <tr>\n",
              "      <th>4</th>\n",
              "      <td>2010-12-12</td>\n",
              "      <td>-83452.402097</td>\n",
              "      <td>-84506.818017</td>\n",
              "      <td>-82328.081618</td>\n",
              "      <td>522</td>\n",
              "      <td>2010-11-08</td>\n",
              "    </tr>\n",
              "  </tbody>\n",
              "</table>\n",
              "</div>"
            ],
            "text/plain": [
              "          ds           yhat     yhat_lower     yhat_upper     y     cutoff\n",
              "0 2010-11-14  -12575.177113  -12690.972292  -12467.065482  3154 2010-11-08\n",
              "1 2010-11-21  -45498.791295  -45800.015260  -45201.644678  2301 2010-11-08\n",
              "2 2010-11-28  -84112.499614  -84639.441000  -83566.999985  1537 2010-11-08\n",
              "3 2010-12-05 -101917.364527 -102691.891468 -101116.855011   844 2010-11-08\n",
              "4 2010-12-12  -83452.402097  -84506.818017  -82328.081618   522 2010-11-08"
            ]
          },
          "metadata": {
            "tags": []
          },
          "execution_count": 59
        }
      ]
    },
    {
      "cell_type": "code",
      "metadata": {
        "colab": {
          "base_uri": "https://localhost:8080/",
          "height": 419
        },
        "id": "4GGvoA-HgpGW",
        "outputId": "f3fff866-fe93-434d-d555-e15f4d826eef"
      },
      "source": [
        "# Performance Metrics\n",
        "from fbprophet.diagnostics import performance_metrics\n",
        "casual_weekly_pm = performance_metrics(casual_weekly_cv_results)\n",
        "casual_weekly_pm"
      ],
      "execution_count": 60,
      "outputs": [
        {
          "output_type": "execute_result",
          "data": {
            "text/html": [
              "<div>\n",
              "<style scoped>\n",
              "    .dataframe tbody tr th:only-of-type {\n",
              "        vertical-align: middle;\n",
              "    }\n",
              "\n",
              "    .dataframe tbody tr th {\n",
              "        vertical-align: top;\n",
              "    }\n",
              "\n",
              "    .dataframe thead th {\n",
              "        text-align: right;\n",
              "    }\n",
              "</style>\n",
              "<table border=\"1\" class=\"dataframe\">\n",
              "  <thead>\n",
              "    <tr style=\"text-align: right;\">\n",
              "      <th></th>\n",
              "      <th>horizon</th>\n",
              "      <th>mse</th>\n",
              "      <th>rmse</th>\n",
              "      <th>mae</th>\n",
              "      <th>mape</th>\n",
              "      <th>mdape</th>\n",
              "      <th>coverage</th>\n",
              "    </tr>\n",
              "  </thead>\n",
              "  <tbody>\n",
              "    <tr>\n",
              "      <th>0</th>\n",
              "      <td>18 days</td>\n",
              "      <td>8.636463e+07</td>\n",
              "      <td>9293.257455</td>\n",
              "      <td>5374.848483</td>\n",
              "      <td>1.409981</td>\n",
              "      <td>0.306067</td>\n",
              "      <td>0.541667</td>\n",
              "    </tr>\n",
              "    <tr>\n",
              "      <th>1</th>\n",
              "      <td>19 days</td>\n",
              "      <td>8.659639e+07</td>\n",
              "      <td>9305.718251</td>\n",
              "      <td>5407.852897</td>\n",
              "      <td>1.440449</td>\n",
              "      <td>0.306067</td>\n",
              "      <td>0.555556</td>\n",
              "    </tr>\n",
              "    <tr>\n",
              "      <th>2</th>\n",
              "      <td>20 days</td>\n",
              "      <td>1.880306e+08</td>\n",
              "      <td>13712.426395</td>\n",
              "      <td>6489.260958</td>\n",
              "      <td>2.270888</td>\n",
              "      <td>0.303213</td>\n",
              "      <td>0.555556</td>\n",
              "    </tr>\n",
              "    <tr>\n",
              "      <th>3</th>\n",
              "      <td>21 days</td>\n",
              "      <td>1.883299e+08</td>\n",
              "      <td>13723.332473</td>\n",
              "      <td>6499.494046</td>\n",
              "      <td>2.240332</td>\n",
              "      <td>0.317077</td>\n",
              "      <td>0.541667</td>\n",
              "    </tr>\n",
              "    <tr>\n",
              "      <th>4</th>\n",
              "      <td>22 days</td>\n",
              "      <td>2.177215e+08</td>\n",
              "      <td>14755.390276</td>\n",
              "      <td>7095.844160</td>\n",
              "      <td>2.319927</td>\n",
              "      <td>0.328672</td>\n",
              "      <td>0.527778</td>\n",
              "    </tr>\n",
              "    <tr>\n",
              "      <th>...</th>\n",
              "      <td>...</td>\n",
              "      <td>...</td>\n",
              "      <td>...</td>\n",
              "      <td>...</td>\n",
              "      <td>...</td>\n",
              "      <td>...</td>\n",
              "      <td>...</td>\n",
              "    </tr>\n",
              "    <tr>\n",
              "      <th>158</th>\n",
              "      <td>176 days</td>\n",
              "      <td>9.644673e+07</td>\n",
              "      <td>9820.729568</td>\n",
              "      <td>5495.918137</td>\n",
              "      <td>1.200114</td>\n",
              "      <td>0.240886</td>\n",
              "      <td>0.569444</td>\n",
              "    </tr>\n",
              "    <tr>\n",
              "      <th>159</th>\n",
              "      <td>177 days</td>\n",
              "      <td>9.819299e+07</td>\n",
              "      <td>9909.237618</td>\n",
              "      <td>5623.249638</td>\n",
              "      <td>1.237608</td>\n",
              "      <td>0.240886</td>\n",
              "      <td>0.555556</td>\n",
              "    </tr>\n",
              "    <tr>\n",
              "      <th>160</th>\n",
              "      <td>178 days</td>\n",
              "      <td>4.370420e+07</td>\n",
              "      <td>6610.915416</td>\n",
              "      <td>4830.555502</td>\n",
              "      <td>1.033387</td>\n",
              "      <td>0.245353</td>\n",
              "      <td>0.555556</td>\n",
              "    </tr>\n",
              "    <tr>\n",
              "      <th>161</th>\n",
              "      <td>179 days</td>\n",
              "      <td>4.266158e+07</td>\n",
              "      <td>6531.583050</td>\n",
              "      <td>4753.779571</td>\n",
              "      <td>1.036344</td>\n",
              "      <td>0.240886</td>\n",
              "      <td>0.569444</td>\n",
              "    </tr>\n",
              "    <tr>\n",
              "      <th>162</th>\n",
              "      <td>180 days</td>\n",
              "      <td>4.480613e+07</td>\n",
              "      <td>6693.738061</td>\n",
              "      <td>4854.921795</td>\n",
              "      <td>1.081046</td>\n",
              "      <td>0.239184</td>\n",
              "      <td>0.569444</td>\n",
              "    </tr>\n",
              "  </tbody>\n",
              "</table>\n",
              "<p>163 rows × 7 columns</p>\n",
              "</div>"
            ],
            "text/plain": [
              "     horizon           mse          rmse  ...      mape     mdape  coverage\n",
              "0    18 days  8.636463e+07   9293.257455  ...  1.409981  0.306067  0.541667\n",
              "1    19 days  8.659639e+07   9305.718251  ...  1.440449  0.306067  0.555556\n",
              "2    20 days  1.880306e+08  13712.426395  ...  2.270888  0.303213  0.555556\n",
              "3    21 days  1.883299e+08  13723.332473  ...  2.240332  0.317077  0.541667\n",
              "4    22 days  2.177215e+08  14755.390276  ...  2.319927  0.328672  0.527778\n",
              "..       ...           ...           ...  ...       ...       ...       ...\n",
              "158 176 days  9.644673e+07   9820.729568  ...  1.200114  0.240886  0.569444\n",
              "159 177 days  9.819299e+07   9909.237618  ...  1.237608  0.240886  0.555556\n",
              "160 178 days  4.370420e+07   6610.915416  ...  1.033387  0.245353  0.555556\n",
              "161 179 days  4.266158e+07   6531.583050  ...  1.036344  0.240886  0.569444\n",
              "162 180 days  4.480613e+07   6693.738061  ...  1.081046  0.239184  0.569444\n",
              "\n",
              "[163 rows x 7 columns]"
            ]
          },
          "metadata": {
            "tags": []
          },
          "execution_count": 60
        }
      ]
    }
  ]
}
