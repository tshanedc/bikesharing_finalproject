{
 "cells": [
  {
   "cell_type": "code",
   "execution_count": 1,
   "id": "8d71c183",
   "metadata": {},
   "outputs": [],
   "source": [
    "# import dependencies\n",
    "import os\n",
    "import pandas as pd"
   ]
  },
  {
   "cell_type": "code",
   "execution_count": 2,
   "id": "2f14a8a9",
   "metadata": {},
   "outputs": [
    {
     "data": {
      "text/plain": [
       "['../Datasets/Washington DC/trips_2010to202003.csv',\n",
       " '../Datasets/Washington DC/trips_202005to202105.csv']"
      ]
     },
     "execution_count": 2,
     "metadata": {},
     "output_type": "execute_result"
    }
   ],
   "source": [
    "# Listy the two csv files for datasets\n",
    "filepath1 = '../Datasets/Washington DC/trips_2010to202003.csv'\n",
    "filepath2 = '../Datasets/Washington DC/trips_202005to202105.csv'\n",
    "csv_file_list = [filepath1,filepath2]\n",
    "csv_file_list"
   ]
  },
  {
   "cell_type": "code",
   "execution_count": 3,
   "id": "22db6004",
   "metadata": {
    "scrolled": true
   },
   "outputs": [
    {
     "data": {
      "text/html": [
       "<div>\n",
       "<style scoped>\n",
       "    .dataframe tbody tr th:only-of-type {\n",
       "        vertical-align: middle;\n",
       "    }\n",
       "\n",
       "    .dataframe tbody tr th {\n",
       "        vertical-align: top;\n",
       "    }\n",
       "\n",
       "    .dataframe thead th {\n",
       "        text-align: right;\n",
       "    }\n",
       "</style>\n",
       "<table border=\"1\" class=\"dataframe\">\n",
       "  <thead>\n",
       "    <tr style=\"text-align: right;\">\n",
       "      <th></th>\n",
       "      <th>Trip_number</th>\n",
       "      <th>startsstationnumber</th>\n",
       "      <th>endstationnumber</th>\n",
       "      <th>startdate</th>\n",
       "      <th>enddate</th>\n",
       "      <th>membertype</th>\n",
       "      <th>weekday</th>\n",
       "    </tr>\n",
       "  </thead>\n",
       "  <tbody>\n",
       "    <tr>\n",
       "      <th>0</th>\n",
       "      <td>1</td>\n",
       "      <td>31208</td>\n",
       "      <td>31108</td>\n",
       "      <td>2010-09-20 11:27:04</td>\n",
       "      <td>2010-09-20 11:43:56</td>\n",
       "      <td>Member</td>\n",
       "      <td>Monday</td>\n",
       "    </tr>\n",
       "    <tr>\n",
       "      <th>1</th>\n",
       "      <td>2</td>\n",
       "      <td>31209</td>\n",
       "      <td>31209</td>\n",
       "      <td>2010-09-20 11:41:22</td>\n",
       "      <td>2010-09-20 11:42:23</td>\n",
       "      <td>Member</td>\n",
       "      <td>Monday</td>\n",
       "    </tr>\n",
       "    <tr>\n",
       "      <th>2</th>\n",
       "      <td>3</td>\n",
       "      <td>31600</td>\n",
       "      <td>31100</td>\n",
       "      <td>2010-09-20 12:05:37</td>\n",
       "      <td>2010-09-20 12:50:27</td>\n",
       "      <td>Member</td>\n",
       "      <td>Monday</td>\n",
       "    </tr>\n",
       "    <tr>\n",
       "      <th>3</th>\n",
       "      <td>4</td>\n",
       "      <td>31600</td>\n",
       "      <td>31602</td>\n",
       "      <td>2010-09-20 12:06:05</td>\n",
       "      <td>2010-09-20 12:29:32</td>\n",
       "      <td>Member</td>\n",
       "      <td>Monday</td>\n",
       "    </tr>\n",
       "    <tr>\n",
       "      <th>4</th>\n",
       "      <td>5</td>\n",
       "      <td>31100</td>\n",
       "      <td>31201</td>\n",
       "      <td>2010-09-20 12:10:43</td>\n",
       "      <td>2010-09-20 12:34:17</td>\n",
       "      <td>Member</td>\n",
       "      <td>Monday</td>\n",
       "    </tr>\n",
       "  </tbody>\n",
       "</table>\n",
       "</div>"
      ],
      "text/plain": [
       "   Trip_number  startsstationnumber  endstationnumber            startdate  \\\n",
       "0            1                31208             31108  2010-09-20 11:27:04   \n",
       "1            2                31209             31209  2010-09-20 11:41:22   \n",
       "2            3                31600             31100  2010-09-20 12:05:37   \n",
       "3            4                31600             31602  2010-09-20 12:06:05   \n",
       "4            5                31100             31201  2010-09-20 12:10:43   \n",
       "\n",
       "               enddate membertype weekday  \n",
       "0  2010-09-20 11:43:56     Member  Monday  \n",
       "1  2010-09-20 11:42:23     Member  Monday  \n",
       "2  2010-09-20 12:50:27     Member  Monday  \n",
       "3  2010-09-20 12:29:32     Member  Monday  \n",
       "4  2010-09-20 12:34:17     Member  Monday  "
      ]
     },
     "execution_count": 3,
     "metadata": {},
     "output_type": "execute_result"
    }
   ],
   "source": [
    "# Read the listed file paths as DataFrame and merge\n",
    "list_of_datasets = []\n",
    "# loop through pd.read_csv method with the list of file path we created earlier \n",
    "for filepath in csv_file_list:\n",
    "    list_of_datasets.append(pd.read_csv(filepath, low_memory=False))\n",
    "\n",
    "# merge the dataframes we read into one dataframe\n",
    "all_bike_trips = pd.concat(list_of_datasets)\n",
    "all_bike_trips.head()"
   ]
  },
  {
   "cell_type": "code",
   "execution_count": 6,
   "id": "c9cff342",
   "metadata": {
    "scrolled": true
   },
   "outputs": [
    {
     "data": {
      "text/plain": [
       "Trip_number             int64\n",
       "startsstationnumber     int64\n",
       "endstationnumber        int64\n",
       "startdate              object\n",
       "enddate                object\n",
       "membertype             object\n",
       "weekday                object\n",
       "dtype: object"
      ]
     },
     "execution_count": 6,
     "metadata": {},
     "output_type": "execute_result"
    }
   ],
   "source": [
    "# Describe\n",
    "all_bike_trips.dtypes"
   ]
  },
  {
   "cell_type": "code",
   "execution_count": 7,
   "id": "e809ed1d",
   "metadata": {},
   "outputs": [
    {
     "data": {
      "text/plain": [
       "Trip_number                     int64\n",
       "startsstationnumber             int64\n",
       "endstationnumber                int64\n",
       "startdate              datetime64[ns]\n",
       "enddate                datetime64[ns]\n",
       "membertype                     object\n",
       "weekday                        object\n",
       "dtype: object"
      ]
     },
     "execution_count": 7,
     "metadata": {},
     "output_type": "execute_result"
    }
   ],
   "source": [
    "# Convert the 'started_at' and 'ended_at' columns to datetime data type\n",
    "all_bike_trips['startdate'] = pd.to_datetime(all_bike_trips['startdate'])\n",
    "all_bike_trips['enddate'] = pd.to_datetime(all_bike_trips['enddate'])\n",
    "all_bike_trips.dtypes"
   ]
  },
  {
   "cell_type": "code",
   "execution_count": 8,
   "id": "fe7852bd",
   "metadata": {},
   "outputs": [],
   "source": [
    "# Output to csv\n",
    "folder_path = '../Datasets/Washington DC/'\n",
    "all_bike_trips.to_csv(os.path.join(folder_path,'Table1_all_bike_trips.csv'),index=False)"
   ]
  },
  {
   "cell_type": "code",
   "execution_count": null,
   "id": "4c51ba53",
   "metadata": {},
   "outputs": [],
   "source": []
  }
 ],
 "metadata": {
  "kernelspec": {
   "display_name": "Python 3",
   "language": "python",
   "name": "python3"
  },
  "language_info": {
   "codemirror_mode": {
    "name": "ipython",
    "version": 3
   },
   "file_extension": ".py",
   "mimetype": "text/x-python",
   "name": "python",
   "nbconvert_exporter": "python",
   "pygments_lexer": "ipython3",
   "version": "3.8.8"
  }
 },
 "nbformat": 4,
 "nbformat_minor": 5
}
